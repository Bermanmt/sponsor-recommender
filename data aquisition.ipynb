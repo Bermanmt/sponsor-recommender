{
 "cells": [
  {
   "cell_type": "code",
   "execution_count": 1,
   "metadata": {
    "collapsed": false
   },
   "outputs": [
    {
     "name": "stdout",
     "output_type": "stream",
     "text": [
      "CPU times: user 38.7 ms, sys: 33.3 ms, total: 72 ms\n",
      "Wall time: 651 ms\n",
      "CPU times: user 28.2 ms, sys: 26.9 ms, total: 55.1 ms\n",
      "Wall time: 764 ms\n",
      "CPU times: user 5 µs, sys: 0 ns, total: 5 µs\n",
      "Wall time: 9.06 µs\n",
      "CPU times: user 529 ms, sys: 186 ms, total: 716 ms\n",
      "Wall time: 6.66 s\n",
      "CPU times: user 6 µs, sys: 1e+03 ns, total: 7 µs\n",
      "Wall time: 9.06 µs\n"
     ]
    }
   ],
   "source": [
    "%time import requests\n",
    "%time from pymongo import MongoClient\n",
    "%time import ast\n",
    "%time import pandas as pd\n",
    "%time import numpy as np\n"
   ]
  },
  {
   "cell_type": "code",
   "execution_count": 2,
   "metadata": {
    "collapsed": false
   },
   "outputs": [
    {
     "name": "stdout",
     "output_type": "stream",
     "text": [
      "CPU times: user 1.5 ms, sys: 1.45 ms, total: 2.94 ms\n",
      "Wall time: 2.35 ms\n",
      "CPU times: user 58 µs, sys: 52 µs, total: 110 µs\n",
      "Wall time: 87 µs\n",
      "CPU times: user 48 µs, sys: 1 µs, total: 49 µs\n",
      "Wall time: 56 µs\n"
     ]
    }
   ],
   "source": [
    "%time client = MongoClient()\n",
    "%time db = client.meetup\n",
    "groups_col=db.groups\n",
    "%time groups_clean_extra_col = db.groups_clean_extra\n",
    "groups_clean_extra_col\n",
    "test_col = db.test"
   ]
  },
  {
   "cell_type": "code",
   "execution_count": null,
   "metadata": {
    "collapsed": true
   },
   "outputs": [],
   "source": [
    "api_key='466c256e2d1d455e4d3e4861bd32b'"
   ]
  },
  {
   "cell_type": "code",
   "execution_count": null,
   "metadata": {
    "collapsed": true
   },
   "outputs": [],
   "source": [
    "'https://api.meetup.com/2/groups?zip=94109&offset=0&city=San+Francisco&format=json&lon=-122.419998169&photo-host=public&state=ca&page=20&radius=25.0&fields=sponsors%2Clast_event%2Cnext_event%2Cphotos%2C+short_link&lat=37.7900009155&order=id'"
   ]
  },
  {
   "cell_type": "code",
   "execution_count": null,
   "metadata": {
    "collapsed": true
   },
   "outputs": [],
   "source": [
    "def save_groups_raw(api_key,location,radius,offset):\n",
    "    groups = requests.get('https://api.meetup.com/find/groups?key='+api_key+'&sign=true&photo-host=public&location='+location+\\\n",
    "                          '&radius='+str(radius)+'&page=200&offset='+str(offset))\n",
    "    groups_info = ast.literal_eval(groups.text)\n",
    "    for group in groups_info:\n",
    "        group['cleaned']=False\n",
    "        group['member_profiles']=[]\n",
    "        group['description']=clean_description(group['description'])\n",
    "        inserted_group = groups_col.insert_one(group)\n",
    "        print inserted_group.inserted_id\n",
    "\n",
    "        "
   ]
  },
  {
   "cell_type": "code",
   "execution_count": null,
   "metadata": {
    "collapsed": true
   },
   "outputs": [],
   "source": [
    "def save_groups_clean(api_key,location,radius,offset):\n",
    "    groups = requests.get('https://api.meetup.com/find/groups?key='+api_key+'&sign=true&photo-host=public&location='+location+\\\n",
    "                          '&radius='+str(radius)+'&page=200&offset='+str(offset))\n",
    "    groups_info = ast.literal_eval(groups.text)\n",
    "    for group in groups_info:\n",
    "        group['cleaned']=True\n",
    "        group['member_profiles']=[]\n",
    "        group['events']=[]\n",
    "        try:\n",
    "            group['next_event_id']=group['next_event']['id']\n",
    "            group['next_event_name']=group['next_event']['name']\n",
    "            group['next_event_time']=group['next_event']['time']\n",
    "            group['next_event_offset']=group['next_event']['utc_offset']\n",
    "            group['next_event_rsvp']=group['next_event']['yes_rsvp_count']\n",
    "            group['organizer_id'] = group['organizer']['id']\n",
    "            group['organizer_name'] = group['organizer']['name']\n",
    "        except KeyError:\n",
    "            group['next_event_id']=np.nan\n",
    "            group['next_event_name']=np.nan\n",
    "            group['next_event_time']=np.nan\n",
    "            group['next_event_offset']=np.nan\n",
    "            group['next_event_rsvp']=np.nan\n",
    "            group['organizer_id'] = np.nan\n",
    "            group['organizer_name'] = np.nan\n",
    "        group['description']=clean_description(group['description'])\n",
    "        inserted_group = groups_clean_col.insert_one(group)\n",
    "        print inserted_group.inserted_id"
   ]
  },
  {
   "cell_type": "code",
   "execution_count": null,
   "metadata": {
    "collapsed": false
   },
   "outputs": [],
   "source": [
    "def test(api_key,location,radius,offset,zip_code):\n",
    "    groups = requests.get('https://api.meetup.com/2/groups?key='+api_key+'&sign=true&photo-host=public&zip='+str(zip_code)+'&fields=sponsors,last_event,next_event,photos, short_link&city='+location+'&state=CA&page=20&offset='+str(offset))\n",
    "    return groups\n",
    "\n",
    "groups_test=test(api_key,'San Francisco',20,0,94109)"
   ]
  },
  {
   "cell_type": "code",
   "execution_count": null,
   "metadata": {
    "collapsed": false
   },
   "outputs": [],
   "source": [
    "group_lst=ast.literal_eval(groups_test.text.replace('\\\\/','/'))\n",
    "group_lst['results'][10]['description']\n"
   ]
  },
  {
   "cell_type": "code",
   "execution_count": null,
   "metadata": {
    "collapsed": true
   },
   "outputs": [],
   "source": []
  },
  {
   "cell_type": "code",
   "execution_count": null,
   "metadata": {
    "collapsed": false
   },
   "outputs": [],
   "source": [
    "def save_groups_clean_extra_info(api_key,location,radius,offset,zip_code,state):\n",
    "    groups = requests.get('https://api.meetup.com/2/groups?key='+api_key+'&sign=true&photo-host=public&zip='+str(zip_code)+'&fields=sponsors,last_event,next_event,photos, short_link,description&city='+location+'&state='+state+'&page=100&offset='+str(offset))\n",
    "    groups_info = ast.literal_eval(groups.text.replace('\\\\/','/'))\n",
    "    for group in groups_info['results']:\n",
    "        #print group\n",
    "        group['cleaned']=True\n",
    "        group['member_profiles']=[]\n",
    "        group['events']=[]\n",
    "        #print group['description']\n",
    "        try:\n",
    "            group['next_event_id']=group['next_event']['id']\n",
    "            group['next_event_name']=group['next_event']['name']\n",
    "            group['next_event_time']=group['next_event']['time']\n",
    "            group['next_event_offset']=group['next_event']['utc_offset']\n",
    "            group['next_event_rsvp']=group['next_event']['yes_rsvp_count']\n",
    "            group['organizer_id'] = group['organizer']['id']\n",
    "            group['organizer_name'] = group['organizer']['name']\n",
    "            #group['description']=clean_description(group['description'])\n",
    "        except KeyError:\n",
    "            group['next_event_id']=np.nan\n",
    "            group['next_event_name']=np.nan\n",
    "            group['next_event_time']=np.nan\n",
    "            group['next_event_offset']=np.nan\n",
    "            group['next_event_rsvp']=np.nan\n",
    "            group['organizer_id'] = np.nan\n",
    "            group['organizer_name'] = np.nan\n",
    "            #group['description']=np.nan\n",
    "        \n",
    "        inserted_group = groups_clean_extra_col.insert_one(group)\n",
    "        #print inserted_group.inserted_id"
   ]
  },
  {
   "cell_type": "code",
   "execution_count": null,
   "metadata": {
    "collapsed": false
   },
   "outputs": [],
   "source": [
    "for offset in range(88):\n",
    "    save_groups_clean_extra_info(api_key,'san francisco',30,offset,94109,'CA')\n",
    "    print offset"
   ]
  },
  {
   "cell_type": "code",
   "execution_count": null,
   "metadata": {
    "collapsed": true
   },
   "outputs": [],
   "source": [
    "#for offset in range(36,44):\n",
    "for offset in range(36,44):\n",
    "    save_groups(api_key,'san francisco',30,offset)\n",
    "    print offset"
   ]
  },
  {
   "cell_type": "code",
   "execution_count": null,
   "metadata": {
    "collapsed": true
   },
   "outputs": [],
   "source": []
  },
  {
   "cell_type": "code",
   "execution_count": null,
   "metadata": {
    "collapsed": false
   },
   "outputs": [],
   "source": [
    "groups=requests.get('https://api.meetup.com/find/groups?key='+api_key+'&sign=true&photo-host=public&location=san francisco&radius=30&page=200&offset=1')"
   ]
  },
  {
   "cell_type": "code",
   "execution_count": null,
   "metadata": {
    "collapsed": false
   },
   "outputs": [],
   "source": [
    "groups"
   ]
  },
  {
   "cell_type": "code",
   "execution_count": null,
   "metadata": {
    "collapsed": false
   },
   "outputs": [],
   "source": [
    "groups_info = ast.literal_eval(groups.text)\n"
   ]
  },
  {
   "cell_type": "code",
   "execution_count": null,
   "metadata": {
    "collapsed": false
   },
   "outputs": [],
   "source": [
    "len(groups_info)"
   ]
  },
  {
   "cell_type": "code",
   "execution_count": null,
   "metadata": {
    "collapsed": true
   },
   "outputs": [],
   "source": [
    "for group in groups_info:\n",
    "    inserted_group = groups_col.insert_one(group)\n",
    "    print inserted_group.inserted_id"
   ]
  },
  {
   "cell_type": "code",
   "execution_count": 5,
   "metadata": {
    "collapsed": false
   },
   "outputs": [
    {
     "name": "stdout",
     "output_type": "stream",
     "text": [
      "CPU times: user 147 µs, sys: 24 µs, total: 171 µs\n",
      "Wall time: 180 µs\n"
     ]
    }
   ],
   "source": [
    "%time tech_groups=groups_clean_extra_col.find({})"
   ]
  },
  {
   "cell_type": "code",
   "execution_count": null,
   "metadata": {
    "collapsed": false
   },
   "outputs": [],
   "source": [
    "counter=0\n",
    "for i in tech_groups:\n",
    "    counter+=1\n",
    "print counter"
   ]
  },
  {
   "cell_type": "code",
   "execution_count": 6,
   "metadata": {
    "collapsed": false
   },
   "outputs": [
    {
     "name": "stdout",
     "output_type": "stream",
     "text": [
      "CPU times: user 5.56 s, sys: 411 ms, total: 5.97 s\n",
      "Wall time: 6.13 s\n"
     ]
    }
   ],
   "source": [
    "%time tech_groups_arr=[i for i in tech_groups]\n"
   ]
  },
  {
   "cell_type": "code",
   "execution_count": null,
   "metadata": {
    "collapsed": true
   },
   "outputs": [],
   "source": [
    "tech_groups_arr[:10]"
   ]
  },
  {
   "cell_type": "code",
   "execution_count": 8,
   "metadata": {
    "collapsed": false
   },
   "outputs": [
    {
     "name": "stdout",
     "output_type": "stream",
     "text": [
      "CPU times: user 192 ms, sys: 11.4 ms, total: 203 ms\n",
      "Wall time: 209 ms\n"
     ]
    },
    {
     "data": {
      "text/plain": [
       "(7951, 37)"
      ]
     },
     "execution_count": 8,
     "metadata": {},
     "output_type": "execute_result"
    }
   ],
   "source": [
    "%time groups_df = pd.DataFrame(tech_groups_arr)\n",
    "groups_df.shape"
   ]
  },
  {
   "cell_type": "code",
   "execution_count": null,
   "metadata": {
    "collapsed": false
   },
   "outputs": [],
   "source": [
    "groups_df.columns"
   ]
  },
  {
   "cell_type": "code",
   "execution_count": null,
   "metadata": {
    "collapsed": false
   },
   "outputs": [],
   "source": [
    "#sanfran_tech=groups_df[groups_df.category=={u'shortname': u'Tech', u'id': 34, u'name': u'Tech', u'sort_name': u'Tech'}]\n",
    "groups_df.category.describe()"
   ]
  },
  {
   "cell_type": "code",
   "execution_count": 7,
   "metadata": {
    "collapsed": false
   },
   "outputs": [],
   "source": [
    "def get_category_name(category):\n",
    "    try:\n",
    "        return category['name']\n",
    "    except TypeError:\n",
    "        return np.nan\n",
    "    \n",
    "def get_category_id(category):\n",
    "    try:\n",
    "        return category['id']\n",
    "    except TypeError:\n",
    "        return np.nan\n",
    "        \n"
   ]
  },
  {
   "cell_type": "code",
   "execution_count": 9,
   "metadata": {
    "collapsed": false
   },
   "outputs": [
    {
     "name": "stdout",
     "output_type": "stream",
     "text": [
      "CPU times: user 10.9 ms, sys: 2.01 ms, total: 12.9 ms\n",
      "Wall time: 12.2 ms\n",
      "CPU times: user 11.3 ms, sys: 1.89 ms, total: 13.2 ms\n",
      "Wall time: 11.7 ms\n"
     ]
    }
   ],
   "source": [
    "%time groups_df['category_name'] = groups_df.category.map(get_category_name)\n",
    "%time groups_df['category_id']=groups_df.category.map(get_category_id)\n"
   ]
  },
  {
   "cell_type": "code",
   "execution_count": null,
   "metadata": {
    "collapsed": false
   },
   "outputs": [],
   "source": []
  },
  {
   "cell_type": "code",
   "execution_count": null,
   "metadata": {
    "collapsed": false
   },
   "outputs": [],
   "source": [
    "groups_df.info()"
   ]
  },
  {
   "cell_type": "code",
   "execution_count": null,
   "metadata": {
    "collapsed": false
   },
   "outputs": [],
   "source": []
  },
  {
   "cell_type": "code",
   "execution_count": 11,
   "metadata": {
    "collapsed": false
   },
   "outputs": [],
   "source": [
    "def get_next_event_id(event):\n",
    "    try:\n",
    "        return event['id']\n",
    "    except TypeError:\n",
    "        return np.nan\n",
    "\n",
    "def get_next_event_name(event):\n",
    "    try:\n",
    "        return event['name']\n",
    "    except TypeError:\n",
    "        return np.nan\n",
    "\n",
    "def get_next_event_time(event):\n",
    "    try:\n",
    "        return event['time']\n",
    "    except TypeError:\n",
    "        return np.nan\n",
    "    \n",
    "def get_next_event_offset(event):\n",
    "    try:\n",
    "        return event['utc_offset']\n",
    "    except TypeError:\n",
    "        return np.nan\n",
    "    \n",
    "def get_next_event_rsvp(event):\n",
    "    try:\n",
    "        return event['yes_rsvp_count']\n",
    "    except TypeError:\n",
    "        return np.nan \n",
    "\n",
    "def get_organizer_id(organizer):\n",
    "    try:\n",
    "        return organizer['id']\n",
    "    except TypeError:\n",
    "        return np.nan\n",
    "\n",
    "def get_organizer_name(organizer):\n",
    "    try:\n",
    "        return organizer['name']\n",
    "    except TypeError:\n",
    "        return np.nan\n"
   ]
  },
  {
   "cell_type": "code",
   "execution_count": 12,
   "metadata": {
    "collapsed": false
   },
   "outputs": [
    {
     "name": "stdout",
     "output_type": "stream",
     "text": [
      "CPU times: user 25.8 ms, sys: 3.28 ms, total: 29.1 ms\n",
      "Wall time: 27 ms\n",
      "CPU times: user 27.1 ms, sys: 3.48 ms, total: 30.5 ms\n",
      "Wall time: 31.9 ms\n",
      "CPU times: user 24.4 ms, sys: 2.06 ms, total: 26.5 ms\n",
      "Wall time: 26.9 ms\n",
      "CPU times: user 27.5 ms, sys: 868 µs, total: 28.4 ms\n",
      "Wall time: 28.9 ms\n",
      "CPU times: user 27.6 ms, sys: 1.32 ms, total: 28.9 ms\n",
      "Wall time: 45.5 ms\n"
     ]
    },
    {
     "ename": "KeyError",
     "evalue": "'id'",
     "output_type": "error",
     "traceback": [
      "\u001b[0;31m---------------------------------------------------------------------------\u001b[0m",
      "\u001b[0;31mKeyError\u001b[0m                                  Traceback (most recent call last)",
      "\u001b[0;32m<ipython-input-12-f2df52851490>\u001b[0m in \u001b[0;36m<module>\u001b[0;34m()\u001b[0m\n\u001b[1;32m      4\u001b[0m \u001b[0mget_ipython\u001b[0m\u001b[0;34m(\u001b[0m\u001b[0;34m)\u001b[0m\u001b[0;34m.\u001b[0m\u001b[0mmagic\u001b[0m\u001b[0;34m(\u001b[0m\u001b[0;34mu\"time groups_df['next_event_offset']=map(get_next_event_offset,groups_df.next_event)\"\u001b[0m\u001b[0;34m)\u001b[0m\u001b[0;34m\u001b[0m\u001b[0m\n\u001b[1;32m      5\u001b[0m \u001b[0mget_ipython\u001b[0m\u001b[0;34m(\u001b[0m\u001b[0;34m)\u001b[0m\u001b[0;34m.\u001b[0m\u001b[0mmagic\u001b[0m\u001b[0;34m(\u001b[0m\u001b[0;34mu\"time groups_df['next_event_rsvp']=map(get_next_event_rsvp,groups_df.next_event)\"\u001b[0m\u001b[0;34m)\u001b[0m\u001b[0;34m\u001b[0m\u001b[0m\n\u001b[0;32m----> 6\u001b[0;31m \u001b[0mget_ipython\u001b[0m\u001b[0;34m(\u001b[0m\u001b[0;34m)\u001b[0m\u001b[0;34m.\u001b[0m\u001b[0mmagic\u001b[0m\u001b[0;34m(\u001b[0m\u001b[0;34mu\"time groups_df['organizer_id']=map(get_organizer_id,groups_df.organizer)\"\u001b[0m\u001b[0;34m)\u001b[0m\u001b[0;34m\u001b[0m\u001b[0m\n\u001b[0m\u001b[1;32m      7\u001b[0m \u001b[0mget_ipython\u001b[0m\u001b[0;34m(\u001b[0m\u001b[0;34m)\u001b[0m\u001b[0;34m.\u001b[0m\u001b[0mmagic\u001b[0m\u001b[0;34m(\u001b[0m\u001b[0;34mu\"time groups_df['organizer_name']=map(get_organizer_name,groups_df.organizer)\"\u001b[0m\u001b[0;34m)\u001b[0m\u001b[0;34m\u001b[0m\u001b[0m\n",
      "\u001b[0;32m/Users/andresmasis/anaconda/lib/python2.7/site-packages/IPython/core/interactiveshell.pyc\u001b[0m in \u001b[0;36mmagic\u001b[0;34m(self, arg_s)\u001b[0m\n\u001b[1;32m   2334\u001b[0m         \u001b[0mmagic_name\u001b[0m\u001b[0;34m,\u001b[0m \u001b[0m_\u001b[0m\u001b[0;34m,\u001b[0m \u001b[0mmagic_arg_s\u001b[0m \u001b[0;34m=\u001b[0m \u001b[0marg_s\u001b[0m\u001b[0;34m.\u001b[0m\u001b[0mpartition\u001b[0m\u001b[0;34m(\u001b[0m\u001b[0;34m' '\u001b[0m\u001b[0;34m)\u001b[0m\u001b[0;34m\u001b[0m\u001b[0m\n\u001b[1;32m   2335\u001b[0m         \u001b[0mmagic_name\u001b[0m \u001b[0;34m=\u001b[0m \u001b[0mmagic_name\u001b[0m\u001b[0;34m.\u001b[0m\u001b[0mlstrip\u001b[0m\u001b[0;34m(\u001b[0m\u001b[0mprefilter\u001b[0m\u001b[0;34m.\u001b[0m\u001b[0mESC_MAGIC\u001b[0m\u001b[0;34m)\u001b[0m\u001b[0;34m\u001b[0m\u001b[0m\n\u001b[0;32m-> 2336\u001b[0;31m         \u001b[0;32mreturn\u001b[0m \u001b[0mself\u001b[0m\u001b[0;34m.\u001b[0m\u001b[0mrun_line_magic\u001b[0m\u001b[0;34m(\u001b[0m\u001b[0mmagic_name\u001b[0m\u001b[0;34m,\u001b[0m \u001b[0mmagic_arg_s\u001b[0m\u001b[0;34m)\u001b[0m\u001b[0;34m\u001b[0m\u001b[0m\n\u001b[0m\u001b[1;32m   2337\u001b[0m \u001b[0;34m\u001b[0m\u001b[0m\n\u001b[1;32m   2338\u001b[0m     \u001b[0;31m#-------------------------------------------------------------------------\u001b[0m\u001b[0;34m\u001b[0m\u001b[0;34m\u001b[0m\u001b[0m\n",
      "\u001b[0;32m/Users/andresmasis/anaconda/lib/python2.7/site-packages/IPython/core/interactiveshell.pyc\u001b[0m in \u001b[0;36mrun_line_magic\u001b[0;34m(self, magic_name, line)\u001b[0m\n\u001b[1;32m   2255\u001b[0m                 \u001b[0mkwargs\u001b[0m\u001b[0;34m[\u001b[0m\u001b[0;34m'local_ns'\u001b[0m\u001b[0;34m]\u001b[0m \u001b[0;34m=\u001b[0m \u001b[0msys\u001b[0m\u001b[0;34m.\u001b[0m\u001b[0m_getframe\u001b[0m\u001b[0;34m(\u001b[0m\u001b[0mstack_depth\u001b[0m\u001b[0;34m)\u001b[0m\u001b[0;34m.\u001b[0m\u001b[0mf_locals\u001b[0m\u001b[0;34m\u001b[0m\u001b[0m\n\u001b[1;32m   2256\u001b[0m             \u001b[0;32mwith\u001b[0m \u001b[0mself\u001b[0m\u001b[0;34m.\u001b[0m\u001b[0mbuiltin_trap\u001b[0m\u001b[0;34m:\u001b[0m\u001b[0;34m\u001b[0m\u001b[0m\n\u001b[0;32m-> 2257\u001b[0;31m                 \u001b[0mresult\u001b[0m \u001b[0;34m=\u001b[0m \u001b[0mfn\u001b[0m\u001b[0;34m(\u001b[0m\u001b[0;34m*\u001b[0m\u001b[0margs\u001b[0m\u001b[0;34m,\u001b[0m\u001b[0;34m**\u001b[0m\u001b[0mkwargs\u001b[0m\u001b[0;34m)\u001b[0m\u001b[0;34m\u001b[0m\u001b[0m\n\u001b[0m\u001b[1;32m   2258\u001b[0m             \u001b[0;32mreturn\u001b[0m \u001b[0mresult\u001b[0m\u001b[0;34m\u001b[0m\u001b[0m\n\u001b[1;32m   2259\u001b[0m \u001b[0;34m\u001b[0m\u001b[0m\n",
      "\u001b[0;32m<decorator-gen-60>\u001b[0m in \u001b[0;36mtime\u001b[0;34m(self, line, cell, local_ns)\u001b[0m\n",
      "\u001b[0;32m/Users/andresmasis/anaconda/lib/python2.7/site-packages/IPython/core/magic.pyc\u001b[0m in \u001b[0;36m<lambda>\u001b[0;34m(f, *a, **k)\u001b[0m\n\u001b[1;32m    191\u001b[0m     \u001b[0;31m# but it's overkill for just that one bit of state.\u001b[0m\u001b[0;34m\u001b[0m\u001b[0;34m\u001b[0m\u001b[0m\n\u001b[1;32m    192\u001b[0m     \u001b[0;32mdef\u001b[0m \u001b[0mmagic_deco\u001b[0m\u001b[0;34m(\u001b[0m\u001b[0marg\u001b[0m\u001b[0;34m)\u001b[0m\u001b[0;34m:\u001b[0m\u001b[0;34m\u001b[0m\u001b[0m\n\u001b[0;32m--> 193\u001b[0;31m         \u001b[0mcall\u001b[0m \u001b[0;34m=\u001b[0m \u001b[0;32mlambda\u001b[0m \u001b[0mf\u001b[0m\u001b[0;34m,\u001b[0m \u001b[0;34m*\u001b[0m\u001b[0ma\u001b[0m\u001b[0;34m,\u001b[0m \u001b[0;34m**\u001b[0m\u001b[0mk\u001b[0m\u001b[0;34m:\u001b[0m \u001b[0mf\u001b[0m\u001b[0;34m(\u001b[0m\u001b[0;34m*\u001b[0m\u001b[0ma\u001b[0m\u001b[0;34m,\u001b[0m \u001b[0;34m**\u001b[0m\u001b[0mk\u001b[0m\u001b[0;34m)\u001b[0m\u001b[0;34m\u001b[0m\u001b[0m\n\u001b[0m\u001b[1;32m    194\u001b[0m \u001b[0;34m\u001b[0m\u001b[0m\n\u001b[1;32m    195\u001b[0m         \u001b[0;32mif\u001b[0m \u001b[0mcallable\u001b[0m\u001b[0;34m(\u001b[0m\u001b[0marg\u001b[0m\u001b[0;34m)\u001b[0m\u001b[0;34m:\u001b[0m\u001b[0;34m\u001b[0m\u001b[0m\n",
      "\u001b[0;32m/Users/andresmasis/anaconda/lib/python2.7/site-packages/IPython/core/magics/execution.pyc\u001b[0m in \u001b[0;36mtime\u001b[0;34m(self, line, cell, local_ns)\u001b[0m\n\u001b[1;32m   1165\u001b[0m         \u001b[0;32melse\u001b[0m\u001b[0;34m:\u001b[0m\u001b[0;34m\u001b[0m\u001b[0m\n\u001b[1;32m   1166\u001b[0m             \u001b[0mst\u001b[0m \u001b[0;34m=\u001b[0m \u001b[0mclock2\u001b[0m\u001b[0;34m(\u001b[0m\u001b[0;34m)\u001b[0m\u001b[0;34m\u001b[0m\u001b[0m\n\u001b[0;32m-> 1167\u001b[0;31m             \u001b[0;32mexec\u001b[0m\u001b[0;34m(\u001b[0m\u001b[0mcode\u001b[0m\u001b[0;34m,\u001b[0m \u001b[0mglob\u001b[0m\u001b[0;34m,\u001b[0m \u001b[0mlocal_ns\u001b[0m\u001b[0;34m)\u001b[0m\u001b[0;34m\u001b[0m\u001b[0m\n\u001b[0m\u001b[1;32m   1168\u001b[0m             \u001b[0mend\u001b[0m \u001b[0;34m=\u001b[0m \u001b[0mclock2\u001b[0m\u001b[0;34m(\u001b[0m\u001b[0;34m)\u001b[0m\u001b[0;34m\u001b[0m\u001b[0m\n\u001b[1;32m   1169\u001b[0m             \u001b[0mout\u001b[0m \u001b[0;34m=\u001b[0m \u001b[0mNone\u001b[0m\u001b[0;34m\u001b[0m\u001b[0m\n",
      "\u001b[0;32m<timed exec>\u001b[0m in \u001b[0;36m<module>\u001b[0;34m()\u001b[0m\n",
      "\u001b[0;32m<ipython-input-11-9c89301680fe>\u001b[0m in \u001b[0;36mget_organizer_id\u001b[0;34m(organizer)\u001b[0m\n\u001b[1;32m     31\u001b[0m \u001b[0;32mdef\u001b[0m \u001b[0mget_organizer_id\u001b[0m\u001b[0;34m(\u001b[0m\u001b[0morganizer\u001b[0m\u001b[0;34m)\u001b[0m\u001b[0;34m:\u001b[0m\u001b[0;34m\u001b[0m\u001b[0m\n\u001b[1;32m     32\u001b[0m     \u001b[0;32mtry\u001b[0m\u001b[0;34m:\u001b[0m\u001b[0;34m\u001b[0m\u001b[0m\n\u001b[0;32m---> 33\u001b[0;31m         \u001b[0;32mreturn\u001b[0m \u001b[0morganizer\u001b[0m\u001b[0;34m[\u001b[0m\u001b[0;34m'id'\u001b[0m\u001b[0;34m]\u001b[0m\u001b[0;34m\u001b[0m\u001b[0m\n\u001b[0m\u001b[1;32m     34\u001b[0m     \u001b[0;32mexcept\u001b[0m \u001b[0mTypeError\u001b[0m\u001b[0;34m:\u001b[0m\u001b[0;34m\u001b[0m\u001b[0m\n\u001b[1;32m     35\u001b[0m         \u001b[0;32mreturn\u001b[0m \u001b[0mnp\u001b[0m\u001b[0;34m.\u001b[0m\u001b[0mnan\u001b[0m\u001b[0;34m\u001b[0m\u001b[0m\n",
      "\u001b[0;31mKeyError\u001b[0m: 'id'"
     ]
    }
   ],
   "source": [
    "%time groups_df['next_event_id']=map(get_next_event_id,groups_df.next_event)\n",
    "%time groups_df['next_event_name']=map(get_next_event_name,groups_df.next_event)\n",
    "%time groups_df['next_event_time']=map(get_next_event_time,groups_df.next_event)\n",
    "%time groups_df['next_event_offset']=map(get_next_event_offset,groups_df.next_event)\n",
    "%time  groups_df['next_event_rsvp']=map(get_next_event_rsvp,groups_df.next_event)\n",
    "%time groups_df['organizer_id']=map(get_organizer_id,groups_df.organizer)\n",
    "%time  groups_df['organizer_name']=map(get_organizer_name,groups_df.organizer)"
   ]
  },
  {
   "cell_type": "code",
   "execution_count": null,
   "metadata": {
    "collapsed": false
   },
   "outputs": [],
   "source": [
    "groups_df.description[4]"
   ]
  },
  {
   "cell_type": "code",
   "execution_count": 13,
   "metadata": {
    "collapsed": false
   },
   "outputs": [],
   "source": [
    "from HTMLParser import HTMLParser\n",
    "\n",
    "class MLStripper(HTMLParser):\n",
    "    def __init__(self):\n",
    "        self.reset()\n",
    "        self.fed = []\n",
    "    def handle_data(self, d):\n",
    "        self.fed.append(d)\n",
    "    def get_data(self):\n",
    "        return ''.join(self.fed)\n",
    "\n",
    "def strip_tags(html):\n",
    "    s = MLStripper()\n",
    "    s.feed(html)\n",
    "    return s.get_data()\n",
    "\n",
    "def remove_backspaces(text):\n",
    "    split_text = text.split()\n",
    "    for i in split_text:\n",
    "        i.replace('\\n',' ')\n",
    "    return ' '.join(split_text)\n",
    "\n",
    "def clean_description(descr):\n",
    "    no_tags = strip_tags(groups_df.description[199])\n",
    "    return remove_backspaces(no_tags)"
   ]
  },
  {
   "cell_type": "code",
   "execution_count": 15,
   "metadata": {
    "collapsed": false
   },
   "outputs": [
    {
     "name": "stdout",
     "output_type": "stream",
     "text": [
      "CPU times: user 678 ms, sys: 22.5 ms, total: 700 ms\n",
      "Wall time: 846 ms\n"
     ]
    }
   ],
   "source": [
    "%time groups_df.description = groups_df.description.apply(clean_description)"
   ]
  },
  {
   "cell_type": "code",
   "execution_count": null,
   "metadata": {
    "collapsed": false
   },
   "outputs": [],
   "source": [
    "groups_df.description[10]"
   ]
  },
  {
   "cell_type": "code",
   "execution_count": null,
   "metadata": {
    "collapsed": false
   },
   "outputs": [],
   "source": [
    "\n"
   ]
  },
  {
   "cell_type": "code",
   "execution_count": null,
   "metadata": {
    "collapsed": true
   },
   "outputs": [],
   "source": []
  },
  {
   "cell_type": "code",
   "execution_count": null,
   "metadata": {
    "collapsed": true
   },
   "outputs": [],
   "source": []
  }
 ],
 "metadata": {
  "kernelspec": {
   "display_name": "Python 2",
   "language": "python",
   "name": "python2"
  },
  "language_info": {
   "codemirror_mode": {
    "name": "ipython",
    "version": 2
   },
   "file_extension": ".py",
   "mimetype": "text/x-python",
   "name": "python",
   "nbconvert_exporter": "python",
   "pygments_lexer": "ipython2",
   "version": "2.7.11"
  }
 },
 "nbformat": 4,
 "nbformat_minor": 0
}
