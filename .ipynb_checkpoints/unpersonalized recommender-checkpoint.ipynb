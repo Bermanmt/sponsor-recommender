{
 "cells": [
  {
   "cell_type": "code",
   "execution_count": 1,
   "metadata": {
    "collapsed": true
   },
   "outputs": [],
   "source": [
    "from dataframe_handling import create_df\n",
    "import numpy as np"
   ]
  },
  {
   "cell_type": "code",
   "execution_count": 2,
   "metadata": {
    "collapsed": true
   },
   "outputs": [],
   "source": [
    "df= create_df()"
   ]
  },
  {
   "cell_type": "code",
   "execution_count": 3,
   "metadata": {
    "collapsed": false
   },
   "outputs": [
    {
     "data": {
      "text/plain": [
       "(7951, 41)"
      ]
     },
     "execution_count": 3,
     "metadata": {},
     "output_type": "execute_result"
    }
   ],
   "source": [
    "df.shape"
   ]
  },
  {
   "cell_type": "code",
   "execution_count": 4,
   "metadata": {
    "collapsed": false
   },
   "outputs": [
    {
     "name": "stdout",
     "output_type": "stream",
     "text": [
      "[u'_id', u'city', 'category_name', 'category_id', u'country', u'created', u'description', u'id', u'join_mode', u'lat', u'link', u'lon', u'member_profiles', u'members', u'name', u'next_event', u'next_event_id', u'next_event_name', u'next_event_offset', u'next_event_rsvp', u'next_event_time', u'organizer_id', u'organizer_name', u'rating', u'state', u'timezone', u'urlname', u'visibility', u'who', u'sponsors', u'last_event', 'sponsor_count', 'sponsor_names', 'sponsor_desc', 'sponsor_details', 'last_event_time', 'days_since_last_event', 'last_event_rsvp', 'months_since_created', 'members_per_month', 'rsvp_per_members']\n"
     ]
    }
   ],
   "source": [
    "print list(df.columns)"
   ]
  },
  {
   "cell_type": "code",
   "execution_count": 199,
   "metadata": {
    "collapsed": true
   },
   "outputs": [],
   "source": [
    "recommender_df = df.copy()\n",
    "recommender_df = recommender_df[['city','state','category_name','members','description','name','next_event_rsvp','rating',\n",
    "                    'sponsor_count','days_since_last_event','last_event_rsvp','months_since_created','members_per_month',\n",
    "                    'rsvp_per_members']]\n",
    "\n",
    "##Determine what to do with sponsor count"
   ]
  },
  {
   "cell_type": "code",
   "execution_count": 200,
   "metadata": {
    "collapsed": false
   },
   "outputs": [],
   "source": [
    "recommender_df.members=(recommender_df.members-recommender_df.members.min())/recommender_df.members.max()\n",
    "#recommender_df.next_event_rsvp=recommender_df.next_event_rsvp.fillna(0)\n",
    "#recommender_df.next_event_rsvp=recommender_df.next_event_rsvp.apply(lambda x: (x-recommender_df.next_event_rsvp.min())/recommender_df.next_event_rsvp.max())\n",
    "recommender_df.rating=recommender_df.rating.apply(lambda x: x/recommender_df.rating.max())\n",
    "recommender_df.days_since_last_event=recommender_df.days_since_last_event.fillna(recommender_df.months_since_created*30.4)\n",
    "recommender_df.days_since_last_event = recommender_df.days_since_last_event.apply(lambda x: 1/x)\n",
    "recommender_df.days_since_last_event = recommender_df.days_since_last_event.apply(lambda x: (x-recommender_df.days_since_last_event.min())/recommender_df.days_since_last_event.max())\n",
    "#recommender_df.days_since_last_event=recommender_df.days_since_last_event.fillna(recommender_df.months_since_created*-30.4)\n",
    "#recommender_df.next_event_rsvp"
   ]
  },
  {
   "cell_type": "code",
   "execution_count": 201,
   "metadata": {
    "collapsed": false
   },
   "outputs": [],
   "source": [
    "adding = recommender_df.members+recommender_df.rating\n",
    "adding= adding/adding.max()\n"
   ]
  },
  {
   "cell_type": "code",
   "execution_count": 202,
   "metadata": {
    "collapsed": true
   },
   "outputs": [],
   "source": [
    "recommender_df.last_event_rsvp=recommender_df.last_event_rsvp.apply(lambda x: (x-recommender_df.last_event_rsvp.min())/recommender_df.last_event_rsvp.max())\n",
    "recommender_df.last_event_rsvp=recommender_df.last_event_rsvp.fillna(0)"
   ]
  },
  {
   "cell_type": "code",
   "execution_count": 203,
   "metadata": {
    "collapsed": true
   },
   "outputs": [],
   "source": [
    "recommender_df.members_per_month=recommender_df.members_per_month.apply(lambda x: (x-recommender_df.members_per_month.min())/recommender_df.members_per_month.max())\n",
    "recommender_df.rsvp_per_members=recommender_df.rsvp_per_members.apply(lambda x: (x-recommender_df.rsvp_per_members.max())/recommender_df.rsvp_per_members.max())"
   ]
  },
  {
   "cell_type": "code",
   "execution_count": 274,
   "metadata": {
    "collapsed": false
   },
   "outputs": [],
   "source": [
    "recommender_df['aggregate'] = recommender_df.loc[:,['members','rating','last_event_rsvp','days_since_last_event','members_per_month','rsvp_per_members']].sum(axis=1)\n",
    "#['members','rating','last_event_rsvp','days_since_last_event','members_per_month','rsvp_per_members']\n",
    "#recommender_df['ranking'] = recommender_df['aggregate'].apply(lambda x: 0 if x<0 else x)\n",
    "recommender_df['ranking'] = (recommender_df['aggregate']-recommender_df['aggregate'].min())\n",
    "recommender_df['ranking'] =recommender_df['ranking']/recommender_df['ranking'].max()"
   ]
  },
  {
   "cell_type": "code",
   "execution_count": 275,
   "metadata": {
    "collapsed": false
   },
   "outputs": [],
   "source": [
    "ranked_df = recommender_df[['name','category_name','sponsor_count','ranking']].sort_values(by=['ranking'], ascending=False)"
   ]
  },
  {
   "cell_type": "code",
   "execution_count": 276,
   "metadata": {
    "collapsed": false
   },
   "outputs": [
    {
     "data": {
      "text/plain": [
       "career/business          25\n",
       "tech                     11\n",
       "parents/family            9\n",
       "socializing               8\n",
       "health/wellbeing          7\n",
       "outdoors/adventure        6\n",
       "fitness                   6\n",
       "support                   5\n",
       "LGBT                      4\n",
       "food/drink                4\n",
       "pets/animals              3\n",
       "sports/recreation         2\n",
       "photography               1\n",
       "games                     1\n",
       "movements/politics        1\n",
       "new age/spirituality      1\n",
       "writing                   1\n",
       "education/learning        1\n",
       "dancing                   1\n",
       "fine arts/culture         1\n",
       "sci-fi/fantasy            1\n",
       "alternative lifestyle     1\n",
       "Name: category_name, dtype: int64"
      ]
     },
     "execution_count": 276,
     "metadata": {},
     "output_type": "execute_result"
    }
   ],
   "source": [
    "ranked_df.iloc[:100,:].category_name.value_counts()"
   ]
  },
  {
   "cell_type": "code",
   "execution_count": null,
   "metadata": {
    "collapsed": true
   },
   "outputs": [],
   "source": []
  }
 ],
 "metadata": {
  "kernelspec": {
   "display_name": "Python 2",
   "language": "python",
   "name": "python2"
  },
  "language_info": {
   "codemirror_mode": {
    "name": "ipython",
    "version": 2
   },
   "file_extension": ".py",
   "mimetype": "text/x-python",
   "name": "python",
   "nbconvert_exporter": "python",
   "pygments_lexer": "ipython2",
   "version": "2.7.11"
  }
 },
 "nbformat": 4,
 "nbformat_minor": 0
}
