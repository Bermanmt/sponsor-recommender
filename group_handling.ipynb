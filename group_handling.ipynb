{
 "cells": [
  {
   "cell_type": "code",
   "execution_count": 1,
   "metadata": {
    "collapsed": false
   },
   "outputs": [],
   "source": [
    "from dataframe_handling import create_df\n",
    "import numpy as np"
   ]
  },
  {
   "cell_type": "code",
   "execution_count": 2,
   "metadata": {
    "collapsed": false
   },
   "outputs": [],
   "source": [
    "df= create_df()"
   ]
  },
  {
   "cell_type": "code",
   "execution_count": 3,
   "metadata": {
    "collapsed": false
   },
   "outputs": [
    {
     "data": {
      "text/plain": [
       "(7951, 40)"
      ]
     },
     "execution_count": 3,
     "metadata": {},
     "output_type": "execute_result"
    }
   ],
   "source": [
    "df.shape"
   ]
  },
  {
   "cell_type": "code",
   "execution_count": 7,
   "metadata": {
    "collapsed": false
   },
   "outputs": [
    {
     "data": {
      "text/plain": [
       "Index([                  u'_id',                  u'city',\n",
       "               u'category_name',           u'category_id',\n",
       "                     u'country',               u'created',\n",
       "                 u'description',                    u'id',\n",
       "                   u'join_mode',                   u'lat',\n",
       "                        u'link',                   u'lon',\n",
       "             u'member_profiles',               u'members',\n",
       "                        u'name',            u'next_event',\n",
       "               u'next_event_id',       u'next_event_name',\n",
       "           u'next_event_offset',       u'next_event_rsvp',\n",
       "             u'next_event_time',          u'organizer_id',\n",
       "              u'organizer_name',                u'rating',\n",
       "                       u'state',              u'timezone',\n",
       "                     u'urlname',            u'visibility',\n",
       "                         u'who',              u'sponsors',\n",
       "                  u'last_event',         u'sponsor_count',\n",
       "               u'sponsor_names',          u'sponsor_desc',\n",
       "             u'sponsor_details',       u'last_event_time',\n",
       "       u'days_since_last_event',       u'last_event_rsvp',\n",
       "        u'months_since_created',     u'members_per_month'],\n",
       "      dtype='object')"
      ]
     },
     "execution_count": 7,
     "metadata": {},
     "output_type": "execute_result"
    }
   ],
   "source": [
    "df.columns"
   ]
  },
  {
   "cell_type": "code",
   "execution_count": null,
   "metadata": {
    "collapsed": false
   },
   "outputs": [],
   "source": []
  },
  {
   "cell_type": "code",
   "execution_count": 18,
   "metadata": {
    "collapsed": false
   },
   "outputs": [
    {
     "data": {
      "text/plain": [
       "11      [Compliments of Neo Technology!, Graphs are Ev...\n",
       "14      [Ingeniously simple tools for .Net, SQL Server...\n",
       "23      [http://www.hakkalabs.co/, nan, Thanks, Trulia...\n",
       "25                                             [nan, nan]\n",
       "40      [nan, O'Reilly User Group and Professional Ass...\n",
       "44                                                  [nan]\n",
       "51                                                  [nan]\n",
       "59                              [nan, nan, nan, nan, nan]\n",
       "62                                        [nan, nan, nan]\n",
       "70                                        [nan, nan, nan]\n",
       "73      [Agile coaching, mentoring, training, Green Do...\n",
       "75      [Be there May 22nd at the Hyatt Regency in San...\n",
       "82                                             [nan, nan]\n",
       "83                                             [nan, nan]\n",
       "89      [Change.org is an online activism platform for...\n",
       "107                        [nan, nan, nan, nan, nan, nan]\n",
       "110     [nan, Discount available for ebooks., nan, nan...\n",
       "127     [nan, nan, nan, nan, Devoxx is the premier con...\n",
       "130                                                 [nan]\n",
       "131     [nan, nan, nan, Bio-Rad has been a great suppo...\n",
       "138                                                 [nan]\n",
       "151                            [TYPO3 Web development, .]\n",
       "152     [Outformations is proud to be a long time supp...\n",
       "157     [SideReel helps users find, track and watch sh...\n",
       "165                                            [nan, nan]\n",
       "188     [Rackspace should be familiar to most in the R...\n",
       "189     [We turn vision into reality, delivering excep...\n",
       "201                                  [nan, nan, nan, nan]\n",
       "208     [AppDynamics is an Application Performance Man...\n",
       "214                                  [nan, Adobe Systems]\n",
       "                              ...                        \n",
       "7554                                           [nan, nan]\n",
       "7566                                           [nan, nan]\n",
       "7572                                      [nan, nan, nan]\n",
       "7584                                                [nan]\n",
       "7585                                      [nan, nan, nan]\n",
       "7595                                      [nan, nan, nan]\n",
       "7628                                           [nan, nan]\n",
       "7679                                      [nan, nan, nan]\n",
       "7681                                           [nan, nan]\n",
       "7689                                           [nan, nan]\n",
       "7700                                      [nan, nan, nan]\n",
       "7706                                           [nan, nan]\n",
       "7711                                                [nan]\n",
       "7713                                           [nan, nan]\n",
       "7722                                                [nan]\n",
       "7749                                                [nan]\n",
       "7753                                           [nan, nan]\n",
       "7759                                           [nan, nan]\n",
       "7788                  [nan, nan, nan, nan, nan, nan, nan]\n",
       "7789                                                [nan]\n",
       "7806                                                [nan]\n",
       "7814                                 [nan, nan, nan, nan]\n",
       "7838                                           [nan, nan]\n",
       "7839                                                [nan]\n",
       "7848                                                [nan]\n",
       "7860                                      [nan, nan, nan]\n",
       "7871                                                [nan]\n",
       "7878                                                [nan]\n",
       "7915                                                [nan]\n",
       "7930                                           [nan, nan]\n",
       "Name: sponsor_details, dtype: object"
      ]
     },
     "execution_count": 18,
     "metadata": {},
     "output_type": "execute_result"
    }
   ],
   "source": [
    "df.sponsor_details[df.category_name=='tech'].dropna()"
   ]
  },
  {
   "cell_type": "code",
   "execution_count": null,
   "metadata": {
    "collapsed": true
   },
   "outputs": [],
   "source": []
  },
  {
   "cell_type": "code",
   "execution_count": 20,
   "metadata": {
    "collapsed": false
   },
   "outputs": [
    {
     "data": {
      "text/plain": [
       "u'Whether youre an avid photography enthusiast or just enjoy taking pictures, PhotoFly Travel Club is the perfect way to vacation, go on an adventure, and meet great people. Our members love travel, adventure, culture, and often photography as well! All of our destinations offer amazing opportunities to capture unforgettable photographs and each trip has at least one activity that is perfect for taking pictures.'"
      ]
     },
     "execution_count": 20,
     "metadata": {},
     "output_type": "execute_result"
    }
   ],
   "source": [
    "df.description[10]"
   ]
  },
  {
   "cell_type": "code",
   "execution_count": null,
   "metadata": {
    "collapsed": false
   },
   "outputs": [],
   "source": [
    "df['sponsor_details'][2]"
   ]
  },
  {
   "cell_type": "code",
   "execution_count": null,
   "metadata": {
    "collapsed": false
   },
   "outputs": [],
   "source": [
    "df.columns\n"
   ]
  },
  {
   "cell_type": "code",
   "execution_count": null,
   "metadata": {
    "collapsed": false
   },
   "outputs": [],
   "source": [
    "df.last_event[10]"
   ]
  },
  {
   "cell_type": "code",
   "execution_count": null,
   "metadata": {
    "collapsed": true
   },
   "outputs": [],
   "source": [
    "from datetime import datetime"
   ]
  },
  {
   "cell_type": "code",
   "execution_count": null,
   "metadata": {
    "collapsed": false
   },
   "outputs": [],
   "source": [
    "diff = datetime.utcnow()-datetime.fromtimestamp(df.last_event[3]['time']/1000)"
   ]
  },
  {
   "cell_type": "code",
   "execution_count": null,
   "metadata": {
    "collapsed": false
   },
   "outputs": [],
   "source": [
    "df['last_event_time']=df['last_event'].apply(get_last_event_time)"
   ]
  },
  {
   "cell_type": "code",
   "execution_count": null,
   "metadata": {
    "collapsed": false
   },
   "outputs": [],
   "source": [
    "diff = datetime.utcnow()-datetime.fromtimestamp(df.created[400]/1000)\n",
    "round(diff.days/30.4)"
   ]
  },
  {
   "cell_type": "code",
   "execution_count": null,
   "metadata": {
    "collapsed": false
   },
   "outputs": [],
   "source": [
    "def get_months_since_created(created_date):\n",
    "    date=datetime.fromtimestamp(created_date/1000)\n",
    "    diff = datetime.utcnow()-date\n",
    "    if diff.days/30.4<=1:\n",
    "        return 1.0\n",
    "    else:\n",
    "        avg_months = round(diff.days/30.4)\n",
    "        return avg_months"
   ]
  },
  {
   "cell_type": "code",
   "execution_count": null,
   "metadata": {
    "collapsed": false,
    "scrolled": true
   },
   "outputs": [],
   "source": [
    "df['months_since_created']=df.created.apply(get_months_since_created)\n",
    "#df['months_since_created']=df.created.apply(lambda x: datetime.utcnow()-datetime.fromtimestamp(x/1000))\n",
    "#date=datetime.fromtimestamp(df.created[0]/1000)\n",
    "#diff = datetime.utcnow()-date\n",
    "#diff\n"
   ]
  },
  {
   "cell_type": "code",
   "execution_count": null,
   "metadata": {
    "collapsed": false
   },
   "outputs": [],
   "source": [
    "df['members_per_month']=df['members']/df['months_since_created']\n",
    "df['members_per_month']"
   ]
  },
  {
   "cell_type": "code",
   "execution_count": null,
   "metadata": {
    "collapsed": false
   },
   "outputs": [],
   "source": [
    "def get_last_event_time(x):\n",
    "    try:\n",
    "        return x['time']\n",
    "    except TypeError:\n",
    "        return np.nan\n",
    "\n",
    "def get_days_since_last_event(lastevent):\n",
    "    try:\n",
    "        diff = datetime.utcnow()-datetime.fromtimestamp(lastevent/1000)\n",
    "        #print diff\n",
    "        return diff.days\n",
    "    except TypeError:\n",
    "        return np.nan\n",
    "    except ValueError:\n",
    "        return np.nan\n",
    "\n",
    "def get_last_event_rsvp(lastevent):\n",
    "    try:\n",
    "        return lastevent['yes_rsvp_count']\n",
    "    except TypeError:\n",
    "        return np.nan\n"
   ]
  },
  {
   "cell_type": "code",
   "execution_count": null,
   "metadata": {
    "collapsed": false
   },
   "outputs": [],
   "source": [
    "df['days_since_last_event']= df['last_event_time'].apply(get_days_since_last_event)"
   ]
  },
  {
   "cell_type": "code",
   "execution_count": null,
   "metadata": {
    "collapsed": false
   },
   "outputs": [],
   "source": [
    "df['days_since_last_event']\n"
   ]
  },
  {
   "cell_type": "code",
   "execution_count": null,
   "metadata": {
    "collapsed": false
   },
   "outputs": [],
   "source": []
  },
  {
   "cell_type": "code",
   "execution_count": null,
   "metadata": {
    "collapsed": true
   },
   "outputs": [],
   "source": []
  }
 ],
 "metadata": {
  "kernelspec": {
   "display_name": "Python 2",
   "language": "python",
   "name": "python2"
  },
  "language_info": {
   "codemirror_mode": {
    "name": "ipython",
    "version": 2
   },
   "file_extension": ".py",
   "mimetype": "text/x-python",
   "name": "python",
   "nbconvert_exporter": "python",
   "pygments_lexer": "ipython2",
   "version": "2.7.11"
  }
 },
 "nbformat": 4,
 "nbformat_minor": 0
}
