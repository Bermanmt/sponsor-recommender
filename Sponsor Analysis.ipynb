{
 "cells": [
  {
   "cell_type": "code",
   "execution_count": 1,
   "metadata": {
    "collapsed": true
   },
   "outputs": [],
   "source": [
    "from pymongo import MongoClient\n",
    "import ast\n",
    "import pandas as pd\n",
    "import numpy as np"
   ]
  },
  {
   "cell_type": "code",
   "execution_count": 2,
   "metadata": {
    "collapsed": true
   },
   "outputs": [],
   "source": [
    "client = MongoClient()\n",
    "db = client.meetup\n",
    "groups_col=db.groups\n",
    "groups_clean_extra_col = db.groups_clean_extra\n",
    "groups_clean_extra_col\n",
    "test_col = db.test"
   ]
  },
  {
   "cell_type": "code",
   "execution_count": 3,
   "metadata": {
    "collapsed": true
   },
   "outputs": [],
   "source": [
    "sponsor_info = groups_clean_extra_col.find({},{'sponsors':1,'_id':0})"
   ]
  },
  {
   "cell_type": "code",
   "execution_count": 4,
   "metadata": {
    "collapsed": false
   },
   "outputs": [
    {
     "data": {
      "text/plain": [
       "<pymongo.cursor.Cursor at 0x10376c810>"
      ]
     },
     "execution_count": 4,
     "metadata": {},
     "output_type": "execute_result"
    }
   ],
   "source": [
    "sponsor_info"
   ]
  },
  {
   "cell_type": "code",
   "execution_count": null,
   "metadata": {
    "collapsed": false
   },
   "outputs": [],
   "source": []
  },
  {
   "cell_type": "code",
   "execution_count": 5,
   "metadata": {
    "collapsed": false
   },
   "outputs": [
    {
     "ename": "IndexError",
     "evalue": "list index out of range",
     "output_type": "error",
     "traceback": [
      "\u001b[0;31m---------------------------------------------------------------------------\u001b[0m",
      "\u001b[0;31mIndexError\u001b[0m                                Traceback (most recent call last)",
      "\u001b[0;32m<ipython-input-5-cbfb29949ee5>\u001b[0m in \u001b[0;36m<module>\u001b[0;34m()\u001b[0m\n\u001b[0;32m----> 1\u001b[0;31m \u001b[0;32mprint\u001b[0m \u001b[0msponsor_info\u001b[0m\u001b[0;34m[\u001b[0m\u001b[0;36m0\u001b[0m\u001b[0;34m]\u001b[0m\u001b[0;34m[\u001b[0m\u001b[0;34m'sponsors'\u001b[0m\u001b[0;34m]\u001b[0m\u001b[0;34m[\u001b[0m\u001b[0;36m0\u001b[0m\u001b[0;34m]\u001b[0m\u001b[0;34m[\u001b[0m\u001b[0;34m'name'\u001b[0m\u001b[0;34m]\u001b[0m\u001b[0;34m\u001b[0m\u001b[0m\n\u001b[0m\u001b[1;32m      2\u001b[0m \u001b[0;32mprint\u001b[0m\u001b[0;34m\u001b[0m\u001b[0m\n\u001b[1;32m      3\u001b[0m \u001b[0;32mprint\u001b[0m \u001b[0msponsor_info\u001b[0m\u001b[0;34m[\u001b[0m\u001b[0;36m1\u001b[0m\u001b[0;34m]\u001b[0m\u001b[0;34m[\u001b[0m\u001b[0;34m'sponsors'\u001b[0m\u001b[0;34m]\u001b[0m\u001b[0;34m[\u001b[0m\u001b[0;36m2\u001b[0m\u001b[0;34m]\u001b[0m\u001b[0;34m[\u001b[0m\u001b[0;34m'name'\u001b[0m\u001b[0;34m]\u001b[0m\u001b[0;34m\u001b[0m\u001b[0m\n",
      "\u001b[0;31mIndexError\u001b[0m: list index out of range"
     ]
    }
   ],
   "source": [
    "print sponsor_info[0]['sponsors'][0]['name']\n",
    "print \n",
    "print sponsor_info[1]['sponsors'][2]['name']\n"
   ]
  },
  {
   "cell_type": "code",
   "execution_count": 6,
   "metadata": {
    "collapsed": true
   },
   "outputs": [],
   "source": [
    "sponsor_names = []\n",
    "for sponsors in sponsor_info:\n",
    "    for sponsor in sponsors['sponsors']:\n",
    "        sponsor_names.append(sponsor['name'])\n",
    "        "
   ]
  },
  {
   "cell_type": "code",
   "execution_count": 7,
   "metadata": {
    "collapsed": false
   },
   "outputs": [
    {
     "data": {
      "text/plain": [
       "[u'Professional Connector',\n",
       " u'San Francisco A List',\n",
       " u'Stephanie K Atwood Enterprises',\n",
       " u'See Jane Run',\n",
       " u'Oakland Running Festival',\n",
       " u'Transports',\n",
       " u'Gymboss',\n",
       " u'WHOLEBEINGHEALING.COM',\n",
       " u'OptionONE Care At Home',\n",
       " u'Graph Databases']"
      ]
     },
     "execution_count": 7,
     "metadata": {},
     "output_type": "execute_result"
    }
   ],
   "source": [
    "sponsor_names[:10]"
   ]
  },
  {
   "cell_type": "code",
   "execution_count": 8,
   "metadata": {
    "collapsed": true
   },
   "outputs": [],
   "source": [
    "sponsor_count={}\n",
    "for name in sponsor_names:\n",
    "    if name in sponsor_count:\n",
    "        sponsor_count[name]+=1\n",
    "    else:\n",
    "        sponsor_count[name]=1"
   ]
  },
  {
   "cell_type": "code",
   "execution_count": 9,
   "metadata": {
    "collapsed": false
   },
   "outputs": [],
   "source": [
    "sponsor_df = pd.Series(sponsor_count)"
   ]
  },
  {
   "cell_type": "code",
   "execution_count": 10,
   "metadata": {
    "collapsed": false
   },
   "outputs": [
    {
     "name": "stderr",
     "output_type": "stream",
     "text": [
      "/Users/andresmasis/anaconda/lib/python2.7/site-packages/ipykernel/__main__.py:1: FutureWarning: sort is deprecated, use sort_values(inplace=True) for for INPLACE sorting\n",
      "  if __name__ == '__main__':\n"
     ]
    }
   ],
   "source": [
    "sponsor_df.sort(ascending=False)"
   ]
  },
  {
   "cell_type": "code",
   "execution_count": 11,
   "metadata": {
    "collapsed": false
   },
   "outputs": [],
   "source": [
    "sponsor_series = pd.Series(sponsor_names)"
   ]
  },
  {
   "cell_type": "code",
   "execution_count": 14,
   "metadata": {
    "collapsed": false
   },
   "outputs": [
    {
     "data": {
      "text/plain": [
       "O'Reilly                                  23\n",
       "Facebook                                  18\n",
       "Twitter                                   16\n",
       "Professional Connector                    14\n",
       "Autodesk                                  14\n",
       "Candice Oneida                            14\n",
       "Microsoft                                 13\n",
       "O'Reilly Media                            12\n",
       "Jill Hendrickson International, Inc.      11\n",
       "Lauren Arrow, Creator of \"ProcessSING!    11\n",
       "Arielle Brown                             11\n",
       "                                          11\n",
       "The Relationship Detox                    11\n",
       "Julia Beauchamp                           11\n",
       "New Relic                                 10\n",
       "Sandbox Suites                            10\n",
       "Adobe                                     10\n",
       "Google                                    10\n",
       "IBM                                       10\n",
       "Pivotal Labs                              10\n",
       "Silicon Valley Code Camp                  10\n",
       "JetBrains                                  9\n",
       "Galvanize                                  9\n",
       "Lyft                                       9\n",
       "HowAboutADate                              8\n",
       "Sports Basement                            8\n",
       "Constant Contact                           8\n",
       "Blueliner                                  8\n",
       "AppDynamics                                8\n",
       "Yelp                                       7\n",
       "                                          ..\n",
       "Thrive Market                              1\n",
       "Michelle Egan Photography                  1\n",
       "Kwok Design                                1\n",
       "Elements of Being Chiropractic Center      1\n",
       "RSIGuard                                   1\n",
       "BrandAds                                   1\n",
       "PCH                                        1\n",
       "Eastwick                                   1\n",
       "OpenROV                                    1\n",
       "Union + Webster                            1\n",
       "AeroFS                                     1\n",
       "Bottleshake                                1\n",
       "Chillybuddy Dog Engineered Gear            1\n",
       "Supporters and Previous Hosts              1\n",
       "Celigo                                     1\n",
       "StingrayReports                            1\n",
       "The Iron Cactus/ The Creamery              1\n",
       "Clean & Happy Butt Resource Guide          1\n",
       "Variety - The Children's Charity           1\n",
       "AlienVault                                 1\n",
       "Pacific West Gymnastics                    1\n",
       "Panama Red Coffee Vallejo                  1\n",
       "Looker                                     1\n",
       "Coworking Coaches                          1\n",
       "ZeroCater                                  1\n",
       "Follow us on Tumblr!                       1\n",
       "Alhambra Hills Open Space                  1\n",
       "SuperBike-Coach                            1\n",
       "Celeb Media Group                          1\n",
       "House Of Games                             1\n",
       "dtype: int64"
      ]
     },
     "execution_count": 14,
     "metadata": {},
     "output_type": "execute_result"
    }
   ],
   "source": [
    "sponsor_series.value_counts()"
   ]
  },
  {
   "cell_type": "code",
   "execution_count": null,
   "metadata": {
    "collapsed": true
   },
   "outputs": [],
   "source": []
  },
  {
   "cell_type": "code",
   "execution_count": null,
   "metadata": {
    "collapsed": true
   },
   "outputs": [],
   "source": []
  }
 ],
 "metadata": {
  "kernelspec": {
   "display_name": "Python 2",
   "language": "python",
   "name": "python2"
  },
  "language_info": {
   "codemirror_mode": {
    "name": "ipython",
    "version": 2
   },
   "file_extension": ".py",
   "mimetype": "text/x-python",
   "name": "python",
   "nbconvert_exporter": "python",
   "pygments_lexer": "ipython2",
   "version": "2.7.11"
  }
 },
 "nbformat": 4,
 "nbformat_minor": 0
}
