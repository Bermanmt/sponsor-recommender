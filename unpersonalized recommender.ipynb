{
 "cells": [
  {
   "cell_type": "code",
   "execution_count": null,
   "metadata": {
    "collapsed": false
   },
   "outputs": [],
   "source": [
    "%time from dataframe_handling import create_df\n",
    "%time import numpy as np"
   ]
  },
  {
   "cell_type": "code",
   "execution_count": null,
   "metadata": {
    "collapsed": false
   },
   "outputs": [],
   "source": [
    "%time df= create_df()\n"
   ]
  },
  {
   "cell_type": "code",
   "execution_count": null,
   "metadata": {
    "collapsed": false
   },
   "outputs": [],
   "source": [
    "df.shape"
   ]
  },
  {
   "cell_type": "code",
   "execution_count": null,
   "metadata": {
    "collapsed": false
   },
   "outputs": [],
   "source": [
    "print list(df.columns)"
   ]
  },
  {
   "cell_type": "code",
   "execution_count": null,
   "metadata": {
    "collapsed": false
   },
   "outputs": [],
   "source": [
    "%time recommender_df = df.copy()\n",
    "%time recommender_df = recommender_df[['_id','city','state','category_name','members','description','name','next_event_rsvp','rating','sponsor_count','days_since_last_event','last_event_rsvp','months_since_created','members_per_month','rsvp_per_members']]\n",
    "\n",
    "##Determine what to do with sponsor count"
   ]
  },
  {
   "cell_type": "code",
   "execution_count": null,
   "metadata": {
    "collapsed": false
   },
   "outputs": [],
   "source": [
    "%time recommender_df.members=(recommender_df.members-recommender_df.members.min())/recommender_df.members.max()\n",
    "#recommender_df.next_event_rsvp=recommender_df.next_event_rsvp.fillna(0)\n",
    "#recommender_df.next_event_rsvp=recommender_df.next_event_rsvp.apply(lambda x: (x-recommender_df.next_event_rsvp.min())/recommender_df.next_event_rsvp.max())\n",
    "%time recommender_df.rating=recommender_df.rating.apply(lambda x: x/recommender_df.rating.max())\n",
    "%time recommender_df.days_since_last_event=recommender_df.days_since_last_event.fillna(recommender_df.months_since_created*30.4)\n",
    "%time recommender_df.days_since_last_event = recommender_df.days_since_last_event.apply(lambda x: 1/x)\n",
    "%time recommender_df.days_since_last_event = recommender_df.days_since_last_event.apply(lambda x: (x-recommender_df.days_since_last_event.min())/recommender_df.days_since_last_event.max())\n",
    "#recommender_df.days_since_last_event=recommender_df.days_since_last_event.fillna(recommender_df.months_since_created*-30.4)\n",
    "#recommender_df.next_event_rsvp"
   ]
  },
  {
   "cell_type": "code",
   "execution_count": null,
   "metadata": {
    "collapsed": false
   },
   "outputs": [],
   "source": [
    "adding = recommender_df.members+recommender_df.rating\n",
    "adding= adding/adding.max()\n"
   ]
  },
  {
   "cell_type": "code",
   "execution_count": null,
   "metadata": {
    "collapsed": false
   },
   "outputs": [],
   "source": [
    "%time recommender_df.last_event_rsvp=recommender_df.last_event_rsvp.apply(lambda x: (x-recommender_df.last_event_rsvp.min())/recommender_df.last_event_rsvp.max())\n",
    "%time recommender_df.last_event_rsvp=recommender_df.last_event_rsvp.fillna(0)"
   ]
  },
  {
   "cell_type": "code",
   "execution_count": null,
   "metadata": {
    "collapsed": false
   },
   "outputs": [],
   "source": [
    "%time recommender_df.members_per_month=recommender_df.members_per_month.apply(lambda x: (x-recommender_df.members_per_month.min())/recommender_df.members_per_month.max())\n",
    "%time recommender_df.rsvp_per_members=recommender_df.rsvp_per_members.apply(lambda x: (x-recommender_df.rsvp_per_members.max())/recommender_df.rsvp_per_members.max())"
   ]
  },
  {
   "cell_type": "code",
   "execution_count": null,
   "metadata": {
    "collapsed": false
   },
   "outputs": [],
   "source": [
    "%time recommender_df['aggregate'] = recommender_df.loc[:,['members','rating','last_event_rsvp','days_since_last_event','members_per_month','rsvp_per_members']].sum(axis=1)\n",
    "#['members','rating','last_event_rsvp','days_since_last_event','members_per_month','rsvp_per_members']\n",
    "#recommender_df['ranking'] = recommender_df['aggregate'].apply(lambda x: 0 if x<0 else x)\n",
    "%time recommender_df['ranking'] = (recommender_df['aggregate']-recommender_df['aggregate'].min())\n",
    "%time recommender_df['ranking'] =recommender_df['ranking']/recommender_df['ranking'].max()"
   ]
  },
  {
   "cell_type": "code",
   "execution_count": null,
   "metadata": {
    "collapsed": false
   },
   "outputs": [],
   "source": [
    "%time ranked_df = recommender_df[['_id','name','category_name','sponsor_count','ranking']].sort_values(by=['ranking'], ascending=False)"
   ]
  },
  {
   "cell_type": "code",
   "execution_count": null,
   "metadata": {
    "collapsed": false
   },
   "outputs": [],
   "source": [
    "ranked_df.iloc[:10,:]"
   ]
  },
  {
   "cell_type": "code",
   "execution_count": null,
   "metadata": {
    "collapsed": false
   },
   "outputs": [],
   "source": [
    "%time matrix = ranked_df[:1000].as_matrix()\n"
   ]
  },
  {
   "cell_type": "code",
   "execution_count": null,
   "metadata": {
    "collapsed": true
   },
   "outputs": [],
   "source": []
  }
 ],
 "metadata": {
  "kernelspec": {
   "display_name": "Python 2",
   "language": "python",
   "name": "python2"
  },
  "language_info": {
   "codemirror_mode": {
    "name": "ipython",
    "version": 2
   },
   "file_extension": ".py",
   "mimetype": "text/x-python",
   "name": "python",
   "nbconvert_exporter": "python",
   "pygments_lexer": "ipython2",
   "version": "2.7.11"
  }
 },
 "nbformat": 4,
 "nbformat_minor": 0
}
