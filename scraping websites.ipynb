{
 "cells": [
  {
   "cell_type": "code",
   "execution_count": 4,
   "metadata": {
    "collapsed": false
   },
   "outputs": [],
   "source": [
    "from bs4 import BeautifulSoup\n",
    "import pandas as pd\n",
    "import numpy as np\n",
    "import requests"
   ]
  },
  {
   "cell_type": "code",
   "execution_count": 13,
   "metadata": {
    "collapsed": false
   },
   "outputs": [],
   "source": [
    "res = requests.get('http://www.galvanize.com/')"
   ]
  },
  {
   "cell_type": "code",
   "execution_count": 14,
   "metadata": {
    "collapsed": false
   },
   "outputs": [
    {
     "data": {
      "text/plain": [
       "<Response [200]>"
      ]
     },
     "execution_count": 14,
     "metadata": {},
     "output_type": "execute_result"
    }
   ],
   "source": [
    "res"
   ]
  },
  {
   "cell_type": "code",
   "execution_count": 15,
   "metadata": {
    "collapsed": false
   },
   "outputs": [],
   "source": [
    "soup = BeautifulSoup(res.text, 'html.parser')"
   ]
  },
  {
   "cell_type": "code",
   "execution_count": 19,
   "metadata": {
    "collapsed": false
   },
   "outputs": [
    {
     "data": {
      "text/plain": [
       "<head>\\n<meta charset=\"unicode-escape\">\\n<meta content=\"IE=edge\" http-equiv=\"X-UA-Compatible\">\\n<meta content=\"width=device-width, initial-scale=1.0, maximum-scale=1.0, user-scalable=no\" name=\"viewport\">\\n<title>Galvanize - Learn. Work. Grow.</title>\\n<link href=\"http://www.galvanize.com/wp-content/themes/galvanize/favicon.ico\" rel=\"icon\" type=\"image/png\">\\n<link href=\"http://www.galvanize.com/wp-content/themes/galvanize/css/bootstrap.css\" rel=\"stylesheet\" type=\"text/css\">\\n<link href=\"http://www.galvanize.com/wp-content/themes/galvanize/style.css\" rel=\"stylesheet\" type=\"text/css\"/>\\n<link href=\"//maxcdn.bootstrapcdn.com/font-awesome/4.5.0/css/font-awesome.min.css\" rel=\"stylesheet\">\\n<!-- HTML5 shim and Respond.js IE8 support of HTML5 elements and media queries -->\\n<!--[if lt IE 9]>\\n\\t      <script src=\"https://oss.maxcdn.com/libs/html5shiv/3.7.0/html5shiv.js\"></script>\\n\\t      <script src=\"https://oss.maxcdn.com/libs/respond.js/1.4.2/respond.min.js\"></script>\\n\\t    <![endif] -->\\n<script src=\"//use.typekit.net/ghm7jyv.js\"></script>\\n<script>try{Typekit.load();}catch(e){}</script>\\n<meta charset=\"unicode-escape\"/>\\n<!-- This site is optimized with the Yoast SEO plugin v3.0.7 - https://yoast.com/wordpress/plugins/seo/ -->\\n<meta content=\"Galvanize is where you can become a developer, data scientist, data engineer, or build your tech startup.\" name=\"description\"/>\\n<meta content=\"noodp\" name=\"robots\"/>\\n<link href=\"http://www.galvanize.com/\" rel=\"canonical\"/>\\n<meta content=\"en_US\" property=\"og:locale\"/>\\n<meta content=\"website\" property=\"og:type\"/>\\n<meta content=\"Galvanize - Learn. Work. Grow.\" property=\"og:title\"/>\\n<meta content=\"Galvanize is where you can become a developer, data scientist, data engineer, or build your tech startup.\" property=\"og:description\"/>\\n<meta content=\"http://www.galvanize.com/\" property=\"og:url\"/>\\n<meta content=\"Galvanize\" property=\"og:site_name\"/>\\n<meta content=\"10105610264486859\" property=\"fb:admins\"/>\\n<meta content=\"http://galvanize-wp.s3.amazonaws.com/wp-content/uploads/2015/02/13211803/home-cover1.jpg\" property=\"og:image\"/>\\n<meta content=\"summary_large_image\" name=\"twitter:card\"/>\\n<meta content=\"Galvanize is where you can become a developer, data scientist, data engineer, or build your tech startup.\" name=\"twitter:description\"/>\\n<meta content=\"Galvanize - Learn. Work. Grow.\" name=\"twitter:title\"/>\\n<meta content=\"@galvanize\" name=\"twitter:site\"/>\\n<meta content=\"http://galvanize-wp.s3.amazonaws.com/wp-content/uploads/2015/02/13211803/home-cover1.jpg\" name=\"twitter:image\"/>\\n<meta content=\"@galvanize\" name=\"twitter:creator\"/>\\n<script type=\"application/ld+json\">{\"@context\":\"http:\\\\/\\\\/schema.org\",\"@type\":\"WebSite\",\"url\":\"http:\\\\/\\\\/www.galvanize.com\\\\/\",\"name\":\"Galvanize\",\"potentialAction\":{\"@type\":\"SearchAction\",\"target\":\"http:\\\\/\\\\/www.galvanize.com\\\\/?s={search_term_string}\",\"query-input\":\"required name=search_term_string\"}}</script>\\n<script type=\"application/ld+json\">{\"@context\":\"http:\\\\/\\\\/schema.org\",\"@type\":\"Organization\",\"url\":\"http:\\\\/\\\\/www.galvanize.com\\\\/\",\"sameAs\":[\"https:\\\\/\\\\/www.facebook.com\\\\/GalvanizeHQ\",\"https:\\\\/\\\\/instagram.com\\\\/galvanizehq\\\\/\",\"https:\\\\/\\\\/www.linkedin.com\\\\/company\\\\/galvanize-it\",\"https:\\\\/\\\\/twitter.com\\\\/galvanize\"],\"name\":\"Galvanize\",\"logo\":\"http:\\\\/\\\\/galvanize-wp.s3.amazonaws.com\\\\/wp-content\\\\/uploads\\\\/2015\\\\/03\\\\/30170453\\\\/Galvanize-Galvanize-logomark-text-only-2-2.png\"}</script>\\n<!-- / Yoast SEO plugin. -->\\n<link href=\"http://www.galvanize.com/feed/\" rel=\"alternate\" title=\"Galvanize \\xbb Feed\" type=\"application/rss+xml\"/>\\n<link href=\"http://www.galvanize.com/comments/feed/\" rel=\"alternate\" title=\"Galvanize \\xbb Comments Feed\" type=\"application/rss+xml\"/>\\n<link href=\"http://www.galvanize.com/events/?ical=1\" rel=\"alternate\" title=\"Galvanize \\xbb iCal Feed\" type=\"text/calendar\"/>\\n<link href=\"http://www.galvanize.com/home/feed/\" rel=\"alternate\" title=\"Galvanize \\xbb Home Comments Feed\" type=\"application/rss+xml\"/>\\n<script type=\"text/javascript\">\\n\\t\\t\\twindow._wpemojiSettings = {\"baseUrl\":\"https:\\\\/\\\\/s.w.org\\\\/images\\\\/core\\\\/emoji\\\\/72x72\\\\/\",\"ext\":\".png\",\"source\":{\"concatemoji\":\"http:\\\\/\\\\/www.galvanize.com\\\\/wp-includes\\\\/js\\\\/wp-emoji-release.min.js?ver=4.4.2\"}};\\n\\t\\t\\t!function(a,b,c){function d(a){var c,d=b.createElement(\"canvas\"),e=d.getContext&&d.getContext(\"2d\"),f=String.fromCharCode;return e&&e.fillText?(e.textBaseline=\"top\",e.font=\"600 32px Arial\",\"flag\"===a?(e.fillText(f(55356,56806,55356,56826),0,0),d.toDataURL().length>3e3):\"diversity\"===a?(e.fillText(f(55356,57221),0,0),c=e.getImageData(16,16,1,1).data.toString(),e.fillText(f(55356,57221,55356,57343),0,0),c!==e.getImageData(16,16,1,1).data.toString()):(\"simple\"===a?e.fillText(f(55357,56835),0,0):e.fillText(f(55356,57135),0,0),0!==e.getImageData(16,16,1,1).data[0])):!1}function e(a){var c=b.createElement(\"script\");c.src=a,c.type=\"text/javascript\",b.getElementsByTagName(\"head\")[0].appendChild(c)}var f,g;c.supports={simple:d(\"simple\"),flag:d(\"flag\"),unicode8:d(\"unicode8\"),diversity:d(\"diversity\")},c.DOMReady=!1,c.readyCallback=function(){c.DOMReady=!0},c.supports.simple&&c.supports.flag&&c.supports.unicode8&&c.supports.diversity||(g=function(){c.readyCallback()},b.addEventListener?(b.addEventListener(\"DOMContentLoaded\",g,!1),a.addEventListener(\"load\",g,!1)):(a.attachEvent(\"onload\",g),b.attachEvent(\"onreadystatechange\",function(){\"complete\"===b.readyState&&c.readyCallback()})),f=c.source||{},f.concatemoji?e(f.concatemoji):f.wpemoji&&f.twemoji&&(e(f.twemoji),e(f.wpemoji)))}(window,document,window._wpemojiSettings);\\n\\t\\t</script>\\n<style type=\"text/css\">\\nimg.wp-smiley,\\nimg.emoji {\\n\\tdisplay: inline !important;\\n\\tborder: none !important;\\n\\tbox-shadow: none !important;\\n\\theight: 1em !important;\\n\\twidth: 1em !important;\\n\\tmargin: 0 .07em !important;\\n\\tvertical-align: -0.1em !important;\\n\\tbackground: none !important;\\n\\tpadding: 0 !important;\\n}\\n</style>\\n<link href=\"http://www.galvanize.com/wp-content/plugins/facebook-comment-by-vivacity/css/fb-comments-hidewpcomments.css?ver=4.4.2\" id=\"front-css-css\" media=\"all\" rel=\"stylesheet\" type=\"text/css\"/>\\n<script src=\"http://www.galvanize.com/wp-includes/js/jquery/jquery.js?ver=1.11.3\" type=\"text/javascript\"></script>\\n<script src=\"http://www.galvanize.com/wp-includes/js/jquery/jquery-migrate.min.js?ver=1.2.1\" type=\"text/javascript\"></script>\\n<link href=\"http://www.galvanize.com/wp-json/\" rel=\"https://api.w.org/\"/>\\n<link href=\"http://www.galvanize.com/xmlrpc.php?rsd\" rel=\"EditURI\" title=\"RSD\" type=\"application/rsd+xml\"/>\\n<link href=\"http://www.galvanize.com/wp-includes/wlwmanifest.xml\" rel=\"wlwmanifest\" type=\"application/wlwmanifest+xml\"/>\\n<meta content=\"WordPress 4.4.2\" name=\"generator\"/>\\n<link href=\"http://www.galvanize.com/\" rel=\"shortlink\"/>\\n<meta content=\"1682221688671886\" property=\"fb:app_id\"/>\\n<meta content=\"\" property=\"fb:admins\"/>\\n<meta content=\"en_US\" property=\"og:locale\"/>\\n<meta content=\"en_US\" property=\"og:locale:alternate\"/>\\n<!-- BEGIN GADWP v4.9.2 Universal Tracking - https://deconf.com/google-analytics-dashboard-wordpress/ -->\\n<script>\\r\\n  (function(i,s,o,g,r,a,m){i['GoogleAnalyticsObject']=r;i[r]=i[r]||function(){\\r\\n  (i[r].q=i[r].q||[]).push(arguments)},i[r].l=1*new Date();a=s.createElement(o),\\r\\n  m=s.getElementsByTagName(o)[0];a.async=1;a.src=g;m.parentNode.insertBefore(a,m)\\r\\n  })(window,document,'script','//www.google-analytics.com/analytics.js','ga');\\r\\n  ga('create', 'UA-35669009-1', 'auto');\\r\\n  ga('send', 'pageview');\\r\\n</script>\\n<!-- END GADWP Universal Tracking -->\\n<script src=\"https://api.tiles.mapbox.com/mapbox.js/v2.1.5/mapbox.js\"></script>\\n<link href=\"https://api.tiles.mapbox.com/mapbox.js/v2.1.5/mapbox.css\" rel=\"stylesheet\"/>\\n<!-- Sumome tools -->\\n<script async=\"async\" data-sumo-site-id=\"cc8438a9fbbad03a3e2f27c0d773c33616858792466c2900d09a1d7ad18bce2b\" src=\"//load.sumome.com/\"></script>\\n<!-- Optimizely Analytics -->\\n<script src=\"//cdn.optimizely.com/js/2974420093.js\"></script>\\n<!-- FB remarketing script -->\\n<script>(function() {\\n\\t\\t\\t var _fbq =window._fbq || (window._fbq = []);\\n\\t\\t\\t if (!_fbq.loaded) {\\n\\t\\t\\t var fbds =document.createElement('script');\\n\\t\\t\\t fbds.async = true;\\n\\t\\t\\t fbds.src ='//connect.facebook.net/en_US/fbds.js';\\n\\t\\t\\t var s = document.getElementsByTagName('script')[0];\\n\\t\\t\\t s.parentNode.insertBefore(fbds, s);\\n\\t\\t\\t _fbq.loaded =true;\\n\\t\\t\\t }\\n\\t\\t\\t _fbq.push(['addPixelId', '377912105748404']);\\n\\t\\t\\t})();\\n\\t\\twindow._fbq = window._fbq || [];\\n\\t\\twindow._fbq.push(['track', 'PixelInitialized', {}]);\\n\\t\\t</script>\\n<noscript><img alt=\"\" height=\"1\" src=\"https://www.facebook.com/tr?id=377912105748404&amp;ev=PixelInitialized\" style=\"display:none\" width=\"1\"/></noscript>\\n<!-- Twitter Conversion Pixel -->\\n<script src=\"//platform.twitter.com/oct.js\" type=\"text/javascript\"></script>\\n<script type=\"text/javascript\">twttr.conversion.trackPid('l6urn', { tw_sale_amount: 0, tw_order_quantity: 0 });</script>\\n<noscript>\\n<img alt=\"\" height=\"1\" src=\"https://analytics.twitter.com/i/adsct?txn_id=l6urn&amp;p_id=Twitter&amp;tw_sale_amount=0&amp;tw_order_quantity=0\" style=\"display:none;\" width=\"1\"/>\\n<img alt=\"\" height=\"1\" src=\"//t.co/i/adsct?txn_id=l6urn&amp;p_id=Twitter&amp;tw_sale_amount=0&amp;tw_order_quantity=0\" style=\"display:none;\" width=\"1\"/>\\n</noscript>\\n<!-- Mailchimp Goal Script -->\\n<script type=\"text/javascript\">\\n\\t\\t\\tvar $mcGoal = {'settings':{'uuid':'abdba2d573c94602c30b1d7c1','dc':'us4'}};\\n\\t\\t\\t(function() {\\n\\t\\t\\t\\t var sp = document.createElement('script'); sp.type = 'text/javascript'; sp.async = true; sp.defer = true;\\n\\t\\t\\t\\tsp.src = ('https:' == document.location.protocol ? 'https://s3.amazonaws.com/downloads.mailchimp.com' : 'http://downloads.mailchimp.com') + '/js/goal.min.js';\\n\\t\\t\\t\\tvar s = document.getElementsByTagName('script')[0]; s.parentNode.insertBefore(sp, s);\\n\\t\\t\\t})(); \\n\\t\\t</script>\\n<!-- pinterest tracking code -->\\n<meta content=\"e89b292b8aac16eef5644a4c0f57496a\" name=\"p:domain_verify\"/>\\n<!-- Bing Webmaster tools -->\\n<meta content=\"C1A120D43AAE931FD2BC9EECCB22B12A\" name=\"msvalidate.01\"/>\\n<!-- <script>\\n\\t\\twindow['_fs_debug'] = false;\\n\\t\\twindow['_fs_host'] = 'www.fullstory.com';\\n\\t\\twindow['_fs_org'] = '1uSG';\\n\\t\\t(function(m,n,e,t,l,o,g,y){\\n\\t\\t  g=m[e]=function(a,b){g.q?g.q.push([a,b]):g._api(a,b);};g.q=[];\\n\\t\\t  o=n.createElement(t);o.async=1;o.src='https://'+_fs_host+'/s/fs.js';\\n\\t\\t  y=n.getElementsByTagName(t)[0];y.parentNode.insertBefore(o,y);\\n\\t\\t  g.identify=function(i,v){g(l,{uid:i});if(v)g(l,v)};g.setUserVars=function(v){FS(l,v)};\\n\\t\\t  g.clearUserCookie=function(d,i){d=n.domain;while(1){n.cookie='fs_uid=;domain='+d+\\n\\t\\t  ';path=/;expires='+new Date(0);i=d.indexOf('.');if(i<0)break;d=d.slice(i+1)}}\\n\\t\\t})(window,document,'FS','script','user');\\n\\t\\t</script> -->\\n</link></link></link></meta></meta></meta></head>"
      ]
     },
     "execution_count": 19,
     "metadata": {},
     "output_type": "execute_result"
    }
   ],
   "source": [
    "soup.head"
   ]
  },
  {
   "cell_type": "code",
   "execution_count": null,
   "metadata": {
    "collapsed": true
   },
   "outputs": [],
   "source": []
  },
  {
   "cell_type": "code",
   "execution_count": null,
   "metadata": {
    "collapsed": true
   },
   "outputs": [],
   "source": []
  },
  {
   "cell_type": "code",
   "execution_count": null,
   "metadata": {
    "collapsed": true
   },
   "outputs": [],
   "source": []
  },
  {
   "cell_type": "code",
   "execution_count": null,
   "metadata": {
    "collapsed": true
   },
   "outputs": [],
   "source": []
  }
 ],
 "metadata": {
  "kernelspec": {
   "display_name": "Python 2",
   "language": "python",
   "name": "python2"
  },
  "language_info": {
   "codemirror_mode": {
    "name": "ipython",
    "version": 2
   },
   "file_extension": ".py",
   "mimetype": "text/x-python",
   "name": "python",
   "nbconvert_exporter": "python",
   "pygments_lexer": "ipython2",
   "version": "2.7.11"
  }
 },
 "nbformat": 4,
 "nbformat_minor": 0
}
